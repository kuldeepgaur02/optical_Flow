{
 "cells": [
  {
   "cell_type": "code",
   "execution_count": 2,
   "metadata": {},
   "outputs": [
    {
     "name": "stderr",
     "output_type": "stream",
     "text": [
      "usage: ipykernel_launcher.py [-h] image\n",
      "ipykernel_launcher.py: error: the following arguments are required: image\n"
     ]
    },
    {
     "ename": "SystemExit",
     "evalue": "2",
     "output_type": "error",
     "traceback": [
      "An exception has occurred, use %tb to see the full traceback.\n",
      "\u001b[0;31mSystemExit\u001b[0m\u001b[0;31m:\u001b[0m 2\n"
     ]
    },
    {
     "name": "stderr",
     "output_type": "stream",
     "text": [
      "/Users/kuldeeprajgour/anaconda3/envs/tensorflow/lib/python3.10/site-packages/IPython/core/interactiveshell.py:3513: UserWarning: To exit: use 'exit', 'quit', or Ctrl-D.\n",
      "  warn(\"To exit: use 'exit', 'quit', or Ctrl-D.\", stacklevel=1)\n"
     ]
    }
   ],
   "source": [
    "import numpy as np\n",
    "import cv2 as cv\n",
    "import argparse\n",
    "\n",
    "def main():\n",
    "    parser = argparse.ArgumentParser(description='Lucas-Kanade Optical Flow')\n",
    "    cap = cv.VideoCapture(video_path)\n",
    "\n",
    "    if not cap.isOpened():\n",
    "        print('Error: Unable to open video file.')\n",
    "        return\n",
    "\n",
    "    # Parameters for Shi-Tomasi corner detection\n",
    "    feature_params = dict(\n",
    "        maxCorners=100,\n",
    "        qualityLevel=0.3,\n",
    "        minDistance=7,\n",
    "        blockSize=7\n",
    "    )\n",
    "\n",
    "    # Parameters for Lucas-Kanade optical flow\n",
    "    lk_params = dict(\n",
    "        winSize=(15, 15),\n",
    "        maxLevel=2,\n",
    "        criteria=(cv.TERM_CRITERIA_EPS | cv.TERM_CRITERIA_COUNT, 10, 0.03)\n",
    "    )\n",
    "\n",
    "    # Create some random colors for visualization\n",
    "    color = np.random.randint(0, 255, (100, 3))\n",
    "\n",
    "    # Read the first frame and find corners in it\n",
    "    ret, old_frame = cap.read()\n",
    "    if not ret:\n",
    "        print('Error: No frames grabbed!')\n",
    "        return\n",
    "\n",
    "    old_gray = cv.cvtColor(old_frame, cv.COLOR_BGR2GRAY)\n",
    "    p0 = cv.goodFeaturesToTrack(old_gray, mask=None, **feature_params)\n",
    "\n",
    "    # Create a mask image for drawing purposes\n",
    "    mask = np.zeros_like(old_frame)\n",
    "\n",
    "    while True:\n",
    "        ret, frame = cap.read()\n",
    "        if not ret:\n",
    "            print('End of video.')\n",
    "            break\n",
    "\n",
    "        frame_gray = cv.cvtColor(frame, cv.COLOR_BGR2GRAY)\n",
    "\n",
    "        # Calculate optical flow\n",
    "        p1, st, err = cv.calcOpticalFlowPyrLK(old_gray, frame_gray, p0, None, **lk_params)\n",
    "\n",
    "        # Select good points\n",
    "        good_new = p1[st == 1]\n",
    "        good_old = p0[st == 1]\n",
    "\n",
    "        # Draw the tracks\n",
    "        for i, (new, old) in enumerate(zip(good_new, good_old)):\n",
    "            a, b = new.ravel()\n",
    "            c, d = old.ravel()\n",
    "            mask = cv.line(mask, (int(a), int(b)), (int(c), int(d)), color[i].tolist(), 2)\n",
    "            frame = cv.circle(frame, (int(a), int(b)), 5, color[i].tolist(), -1)\n",
    "\n",
    "        img = cv.add(frame, mask)\n",
    "        cv.imshow('Optical Flow', img)\n",
    "\n",
    "        k = cv.waitKey(30) & 0xff\n",
    "        if k == 27:\n",
    "            break\n",
    "\n",
    "        # Update the previous frame and previous points\n",
    "        old_gray = frame_gray.copy()\n",
    "        p0 = good_new.reshape(-1, 1, 2)\n",
    "\n",
    "    # Release video capture and close all windows\n",
    "    cap.release()\n",
    "    cv.destroyAllWindows()\n",
    "\n",
    "if __name__ == \"__main__\":\n",
    "    video_path = '/Users/kuldeeprajgour/Desktop/Optical-Flow-Motion/cars_on_highway (1080p).mp4'\n",
    "    main(video_path)\n",
    "\n"
   ]
  },
  {
   "cell_type": "code",
   "execution_count": null,
   "metadata": {},
   "outputs": [],
   "source": []
  }
 ],
 "metadata": {
  "kernelspec": {
   "display_name": "tensorflow",
   "language": "python",
   "name": "python3"
  },
  "language_info": {
   "codemirror_mode": {
    "name": "ipython",
    "version": 3
   },
   "file_extension": ".py",
   "mimetype": "text/x-python",
   "name": "python",
   "nbconvert_exporter": "python",
   "pygments_lexer": "ipython3",
   "version": "3.10.10"
  },
  "orig_nbformat": 4
 },
 "nbformat": 4,
 "nbformat_minor": 2
}
